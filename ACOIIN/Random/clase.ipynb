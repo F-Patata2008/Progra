{
  "cells": [
    {
      "cell_type": "markdown",
      "metadata": {
        "id": "42a14256-91c8-446e-92a7-ab6bf11055d3"
      },
      "source": [
        "## 🧠 Clase: Análisis de Datos con Pandas — *Catálogo de Netflix*\n",
        "\n"
      ],
      "id": "42a14256-91c8-446e-92a7-ab6bf11055d3"
    },
    {
      "cell_type": "markdown",
      "source": [
        "### 🎯 **Objetivo general**\n",
        "\n",
        "Aprender a realizar un análisis exploratorio de datos usando **Pandas**,\n",
        "a través de un dataset real del catálogo de Netflix.\n",
        "\n",
        "\n"
      ],
      "metadata": {
        "id": "KGIZLj8c5RmT"
      },
      "id": "KGIZLj8c5RmT"
    },
    {
      "cell_type": "markdown",
      "source": [
        "## 🧩 **1. Cargar e inspeccionar los datos**"
      ],
      "metadata": {
        "id": "yYHRe9xN5V45"
      },
      "id": "yYHRe9xN5V45"
    },
    {
      "cell_type": "code",
      "source": [
        "# Importamos las librerías necesarias\n",
        "import pandas as pd\n",
        "\n",
        "# Cargar el dataset (ajusta la ruta según tu entorno)\n",
        "df = pd.read_csv('netflix_titles.csv')\n",
        "\n",
        "# Mostrar primeras filas\n",
        "df.head()"
      ],
      "metadata": {
        "id": "WNYvWtII5f5X"
      },
      "id": "WNYvWtII5f5X",
      "execution_count": null,
      "outputs": []
    },
    {
      "cell_type": "markdown",
      "source": [
        "### 💬 Preguntas para reflexionar:\n",
        "\n",
        "-   ¿Qué tipo de información contiene cada columna?\n",
        "-   ¿Qué tipos de datos observas?\n",
        "\n"
      ],
      "metadata": {
        "id": "fWxoJoLK5jmZ"
      },
      "id": "fWxoJoLK5jmZ"
    },
    {
      "cell_type": "markdown",
      "source": [
        "## 🔍 **2. Exploración inicial**"
      ],
      "metadata": {
        "id": "BgZQP0Al5lLQ"
      },
      "id": "BgZQP0Al5lLQ"
    },
    {
      "cell_type": "code",
      "source": [
        "# Tamaño del dataset\n",
        "print(\"Filas y columnas:\", df.shape)\n",
        "\n",
        "# Información general del DataFrame\n",
        "df.info()\n",
        "\n",
        "# Columnas con valores faltantes\n",
        "df.isna().sum()\n",
        "\n",
        "# Descripción de columnas numéricas\n",
        "df.describe()\n",
        "\n",
        "# Algunos valores únicos en columnas clave\n",
        "df['type'].value_counts()"
      ],
      "metadata": {
        "id": "OdBp6pyv5m1g"
      },
      "id": "OdBp6pyv5m1g",
      "execution_count": null,
      "outputs": []
    },
    {
      "cell_type": "markdown",
      "source": [
        "### 🧠 **Ejercicio 1:**\n",
        "\n",
        "1.  ¿Cuántas películas y cuántas series hay?\n",
        "2.  ¿Cuántos países distintos aparecen en el dataset?\n"
      ],
      "metadata": {
        "id": "v2hwsw3G5p4b"
      },
      "id": "v2hwsw3G5p4b"
    },
    {
      "cell_type": "markdown",
      "source": [
        "## 🧼 **3. Limpieza y preparación**\n",
        "\n",
        "Algunos campos tienen valores nulos o con formato inconsistente.\n"
      ],
      "metadata": {
        "id": "z-DDiigS5r__"
      },
      "id": "z-DDiigS5r__"
    },
    {
      "cell_type": "code",
      "source": [
        "print(\"Valores nulos por columna:\\n\")\n",
        "df.isna().sum()"
      ],
      "metadata": {
        "id": "NU5TBmMX78RE"
      },
      "id": "NU5TBmMX78RE",
      "execution_count": null,
      "outputs": []
    },
    {
      "cell_type": "code",
      "source": [
        "df.tail()"
      ],
      "metadata": {
        "id": "XcY_m8Pq8uOn"
      },
      "id": "XcY_m8Pq8uOn",
      "execution_count": null,
      "outputs": []
    },
    {
      "cell_type": "code",
      "source": [
        "# Rellenamos valores nulos en country y director con 'Desconocido'\n",
        "df['country'] = df['country'].fillna('Desconocido')\n",
        "df['director'] = df['director'].fillna('Desconocido')"
      ],
      "metadata": {
        "id": "S5PxLjNd5uUC"
      },
      "id": "S5PxLjNd5uUC",
      "execution_count": 12,
      "outputs": []
    },
    {
      "cell_type": "markdown",
      "source": [
        "### 🧠 **Ejercicio 2:**\n",
        "\n",
        "1.  Elimina las filas duplicadas (si existen).\n",
        "2.  Crea una columna llamada `is_movie` que valga `True` si el tipo es\n",
        "    *Movie* y `False` si es *TV Show*."
      ],
      "metadata": {
        "id": "y6HIIIPL5v4Q"
      },
      "id": "y6HIIIPL5v4Q"
    },
    {
      "cell_type": "markdown",
      "source": [
        "## 📊 **4. Análisis exploratorio**\n"
      ],
      "metadata": {
        "id": "aXcwVl0F5xP6"
      },
      "id": "aXcwVl0F5xP6"
    },
    {
      "cell_type": "markdown",
      "source": [
        "### 🔸 Películas por año de lanzamiento\n"
      ],
      "metadata": {
        "id": "5Yc8v_NY5yL7"
      },
      "id": "5Yc8v_NY5yL7"
    },
    {
      "cell_type": "code",
      "source": [
        "movies_per_year = df[df['type'] == 'Movie']['release_year'].value_counts()\n",
        "\n",
        "movies_per_year.tail(10)"
      ],
      "metadata": {
        "id": "p_49CR_35zcY"
      },
      "id": "p_49CR_35zcY",
      "execution_count": null,
      "outputs": []
    },
    {
      "cell_type": "markdown",
      "source": [
        "### 🔸 Top 10 países con más producciones\n"
      ],
      "metadata": {
        "id": "bllkZBuF50hn"
      },
      "id": "bllkZBuF50hn"
    },
    {
      "cell_type": "code",
      "source": [
        "country_counts = df['country'].value_counts().head(10)\n",
        "country_counts"
      ],
      "metadata": {
        "id": "x4HBJGhv51PB"
      },
      "id": "x4HBJGhv51PB",
      "execution_count": null,
      "outputs": []
    },
    {
      "cell_type": "markdown",
      "source": [
        "### 🔸 Promedio de año de lanzamiento por tipo\n"
      ],
      "metadata": {
        "id": "ND7X0-dU52b7"
      },
      "id": "ND7X0-dU52b7"
    },
    {
      "cell_type": "code",
      "source": [
        "df.groupby('type')['release_year'].mean()"
      ],
      "metadata": {
        "id": "ANBug5Vf534G"
      },
      "id": "ANBug5Vf534G",
      "execution_count": null,
      "outputs": []
    },
    {
      "cell_type": "markdown",
      "source": [
        "### 🧠 **Ejercicio 3:**\n",
        "\n",
        "1.  Encuentra el país con más **series**.\n",
        "2.  Calcula cuántas películas fueron agregadas a Netflix en **2020**."
      ],
      "metadata": {
        "id": "vCqgO7vT55s1"
      },
      "id": "vCqgO7vT55s1"
    },
    {
      "cell_type": "markdown",
      "source": [
        "## 📈 **5. Visualización básica**"
      ],
      "metadata": {
        "id": "mUuNvRZG563F"
      },
      "id": "mUuNvRZG563F"
    },
    {
      "cell_type": "code",
      "source": [
        "import matplotlib.pyplot as plt\n",
        "\n",
        "# Distribución de películas por año\n",
        "movies_per_year.plot(kind='bar', figsize=(10,4))\n",
        "plt.title('Número de películas por año de lanzamiento')\n",
        "plt.xlabel('Año')\n",
        "plt.ylabel('Cantidad')\n",
        "plt.show()"
      ],
      "metadata": {
        "id": "mcZjP7JU584V"
      },
      "id": "mcZjP7JU584V",
      "execution_count": null,
      "outputs": []
    },
    {
      "cell_type": "code",
      "source": [
        "# Top 10 países\n",
        "country_counts.head(10).plot(kind='barh', figsize=(8,4))\n",
        "plt.title('Top 10 países con más títulos')\n",
        "plt.xlabel('Cantidad de títulos')\n",
        "plt.ylabel('País')\n",
        "plt.show()"
      ],
      "metadata": {
        "id": "5PH2wquZ5_Mb"
      },
      "id": "5PH2wquZ5_Mb",
      "execution_count": null,
      "outputs": []
    },
    {
      "cell_type": "markdown",
      "source": [
        "### 🧠 **Ejercicio 4:**\n",
        "\n",
        "1.  Crea un gráfico que compare la cantidad de *Movies* y *TV Shows*."
      ],
      "metadata": {
        "id": "QkWMyYuY6A0h"
      },
      "id": "QkWMyYuY6A0h"
    },
    {
      "cell_type": "markdown",
      "source": [
        "## 🧭 **6. Conclusiones finales**\n"
      ],
      "metadata": {
        "id": "KzcxEJOo6EMB"
      },
      "id": "KzcxEJOo6EMB"
    },
    {
      "cell_type": "markdown",
      "source": [
        "> Reflexiona sobre:\n",
        ">\n",
        "> -   ¿Qué patrones interesantes encontraste?\n",
        "> -   ¿Qué otros análisis podrías hacer (por género, duración, rating…)?\n",
        "> -   ¿Cómo podrías usar este tipo de análisis en otro contexto?"
      ],
      "metadata": {
        "id": "sokhuKjX6FF9"
      },
      "id": "sokhuKjX6FF9"
    },
    {
      "cell_type": "markdown",
      "source": [
        "## 🌟 **Desafío opcional**\n"
      ],
      "metadata": {
        "id": "hPex1x-v6GFT"
      },
      "id": "hPex1x-v6GFT"
    },
    {
      "cell_type": "markdown",
      "source": [
        "Analiza la columna `listed_in` (géneros) y:\n",
        "\n",
        "-   Cuenta cuántas veces aparece cada género.\n",
        "-   Grafica los 10 géneros más comunes."
      ],
      "metadata": {
        "id": "ZIWkUYdo6G3Q"
      },
      "id": "ZIWkUYdo6G3Q"
    }
  ],
  "nbformat": 4,
  "nbformat_minor": 5,
  "metadata": {
    "colab": {
      "provenance": []
    },
    "language_info": {
      "name": "python"
    },
    "kernelspec": {
      "name": "python3",
      "display_name": "Python 3"
    }
  }
}