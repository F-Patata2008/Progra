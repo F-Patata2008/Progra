Patata
#Hoy vamoa  ver datos y numpy creo


patata = int(input("Patata"));
